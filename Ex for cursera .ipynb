{
  "metadata": {
    "language_info": {
      "codemirror_mode": {
        "name": "python",
        "version": 3
      },
      "file_extension": ".py",
      "mimetype": "text/x-python",
      "name": "python",
      "nbconvert_exporter": "python",
      "pygments_lexer": "ipython3",
      "version": "3.8"
    },
    "kernelspec": {
      "name": "python",
      "display_name": "Python (Pyodide)",
      "language": "python"
    }
  },
  "nbformat_minor": 4,
  "nbformat": 4,
  "cells": [
    {
      "cell_type": "markdown",
      "source": "# My Jupyter Notebook on IBM Watson Studio",
      "metadata": {}
    },
    {
      "cell_type": "markdown",
      "source": "My name is **Kemal**,   \ni work as Deputy project manager in construction ",
      "metadata": {}
    },
    {
      "cell_type": "markdown",
      "source": "*I am interested in this science because I want to work in a complex field that has the potential to be of great benefit to society.*\n",
      "metadata": {}
    },
    {
      "cell_type": "markdown",
      "source": "### This code uses the cycle function to display numbers from 1 to 10:",
      "metadata": {}
    },
    {
      "cell_type": "code",
      "source": "n = 10\nfor i in range(1, n+1):\n    print(i)",
      "metadata": {
        "trusted": true
      },
      "execution_count": 3,
      "outputs": [
        {
          "name": "stdout",
          "text": "1\n2\n3\n4\n5\n6\n7\n8\n9\n10\n",
          "output_type": "stream"
        }
      ]
    },
    {
      "cell_type": "markdown",
      "source": "### List \n - 1\n - 2\n - 3 ",
      "metadata": {}
    },
    {
      "cell_type": "markdown",
      "source": "Open [cat] (https://pikabu.ru/story/prosto_milyiy_kotik_6600508)",
      "metadata": {}
    },
    {
      "cell_type": "markdown",
      "source": "![text](https://sib.fm/storage/article/March2021/IDsV2DD5Qhwj5kWTpfYG.jpeg)",
      "metadata": {}
    },
    {
      "cell_type": "code",
      "source": "",
      "metadata": {},
      "execution_count": null,
      "outputs": []
    }
  ]
}